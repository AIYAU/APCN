{
 "cells": [
  {
   "cell_type": "code",
   "execution_count": 2,
   "metadata": {},
   "outputs": [],
   "source": [
    "import numpy as np\n",
    "from PIL import Image\n",
    "import torch\n",
    "from transformers import BlipProcessor, BlipForConditionalGeneration\n",
    "from torchvision import transforms\n",
    "from torch.utils.data import DataLoader, Dataset\n",
    "from tqdm import tqdm\n",
    "# 自定义数据集类，用于加载图像\n",
    "class ImageDataset(Dataset):\n",
    "    def __init__(self, image_files, transform=None):\n",
    "        self.image_files = image_files\n",
    "        self.transform = transform\n",
    "\n",
    "    def __len__(self):\n",
    "        return len(self.image_files)\n",
    "\n",
    "    def __getitem__(self, idx):\n",
    "        image_path = self.image_files[idx]\n",
    "        image = Image.open(image_path).convert(\"RGB\")\n",
    "        if self.transform:\n",
    "            image = self.transform(image)\n",
    "        return image\n",
    "\n",
    "def blip_inference_and_save(image_files, batch_size=8, device='cuda', output_file='image_embeds.npy'):\n",
    "    # 加载 BLIP 模型和处理器\n",
    "    processor = BlipProcessor.from_pretrained(\"Salesforce/blip-image-captioning-base\")\n",
    "    model = BlipForConditionalGeneration.from_pretrained(\"Salesforce/blip-image-captioning-base\")\n",
    "\n",
    "    # 使用 DataParallel 包装模型，支持多GPU推理\n",
    "    model = torch.nn.DataParallel(model)\n",
    "    model = model.to(device)\n",
    "\n",
    "    # 定义图像预处理变换\n",
    "    transform = transforms.Compose([\n",
    "        transforms.Resize((224, 224)),\n",
    "        transforms.ToTensor(),\n",
    "    ])\n",
    "\n",
    "    # 创建自定义数据集和DataLoader\n",
    "    dataset = ImageDataset(image_files, transform=transform)\n",
    "    dataloader = DataLoader(dataset, batch_size=batch_size, shuffle=False, num_workers=4)\n",
    "\n",
    "    all_embeds = []\n",
    "    model.eval()\n",
    "    with torch.no_grad():\n",
    "        for batch in tqdm(dataloader):\n",
    "            # 将图像批量转移到设备（例如GPU）\n",
    "            batch = batch.to(device)\n",
    "            # 通过processor生成输入\n",
    "            inputs = processor(images=batch, return_tensors=\"pt\").to(device)\n",
    "            # 执行模型推理\n",
    "            outputs = model.module.vision_model(pixel_values=inputs[\"pixel_values\"])\n",
    "            # 提取图像嵌入特征\n",
    "            image_embeds = outputs[1]\n",
    "            all_embeds.append(image_embeds.cpu().numpy())  # 将结果转移到CPU并转换为numpy数组\n",
    "    \n",
    "    # 拼接所有特征向量\n",
    "    all_embeds = np.concatenate(all_embeds, axis=0)\n",
    "    \n",
    "    # 保存为.npy文件\n",
    "    np.save(output_file, all_embeds)\n",
    "    print(f\"特征向量已保存到 {output_file}\")\n"
   ]
  },
  {
   "cell_type": "code",
   "execution_count": 3,
   "metadata": {},
   "outputs": [],
   "source": [
    "import os\n",
    "from tqdm import tqdm\n",
    "def list_images_in_folder_recursive(folder_path):\n",
    "    # 支持的图片格式\n",
    "    image_extensions = ('.jpg', '.jpeg', '.png', '.bmp', '.gif', '.tiff')\n",
    "\n",
    "    # 存储所有图片文件的路径\n",
    "    image_files = []\n",
    "\n",
    "    # 使用os.walk递归遍历文件夹及其子文件夹\n",
    "    for root, dirs, files in tqdm(os.walk(folder_path)):\n",
    "        for file in files:\n",
    "            if file.lower().endswith(image_extensions):\n",
    "                image_files.append(os.path.join(root, file))\n",
    "\n",
    "    return image_files\n"
   ]
  },
  {
   "cell_type": "code",
   "execution_count": 4,
   "metadata": {},
   "outputs": [
    {
     "name": "stderr",
     "output_type": "stream",
     "text": [
      "137it [00:00, 1292.10it/s]\n"
     ]
    }
   ],
   "source": [
    "\n",
    "# 输入文件夹路径\n",
    "folder_path = \"/public/home/msskx/shot5/data\" # 用户输入文件夹路径\n",
    "\n",
    "# 输出所有图片文件的路径\n",
    "image_files = list_images_in_folder_recursive(folder_path)\n"
   ]
  },
  {
   "cell_type": "code",
   "execution_count": 5,
   "metadata": {},
   "outputs": [
    {
     "name": "stderr",
     "output_type": "stream",
     "text": [
      "/opt/conda/lib/python3.10/site-packages/huggingface_hub/file_download.py:1132: FutureWarning: `resume_download` is deprecated and will be removed in version 1.0.0. Downloads always resume when possible. If you want to force a new download, use `force_download=True`.\n",
      "  warnings.warn(\n",
      "/opt/conda/lib/python3.10/site-packages/torch/_utils.py:831: UserWarning: TypedStorage is deprecated. It will be removed in the future and UntypedStorage will be the only storage class. This should only matter to you if you are using storages directly.  To access UntypedStorage directly, use tensor.untyped_storage() instead of tensor.storage()\n",
      "  return self.fget.__get__(instance, owner)()\n",
      "  0%|          | 0/575 [00:00<?, ?it/s]It looks like you are trying to rescale already rescaled images. If the input images have pixel values between 0 and 1, set `do_rescale=False` to avoid rescaling them again.\n",
      "100%|██████████| 575/575 [02:10<00:00,  4.39it/s]"
     ]
    },
    {
     "name": "stdout",
     "output_type": "stream",
     "text": [
      "特征向量已保存到 image_embeds.npy\n"
     ]
    },
    {
     "name": "stderr",
     "output_type": "stream",
     "text": [
      "\n"
     ]
    }
   ],
   "source": [
    "\n",
    "\n",
    "# 批量推理并保存特征向量\n",
    "batch_size = 8  # 根据你的GPU显存调整\n",
    "device = 'cuda' if torch.cuda.is_available() else 'cpu'\n",
    "output_file = 'image_embeds.npy'  # 输出文件的名字\n",
    "\n",
    "blip_inference_and_save(image_files, batch_size=batch_size, device=device, output_file=output_file)\n"
   ]
  },
  {
   "cell_type": "code",
   "execution_count": 7,
   "metadata": {},
   "outputs": [],
   "source": [
    "d = np.load(\"image_embeds.npy\")"
   ]
  },
  {
   "cell_type": "code",
   "execution_count": null,
   "metadata": {},
   "outputs": [],
   "source": []
  }
 ],
 "metadata": {
  "kernelspec": {
   "display_name": "base",
   "language": "python",
   "name": "python3"
  },
  "language_info": {
   "codemirror_mode": {
    "name": "ipython",
    "version": 3
   },
   "file_extension": ".py",
   "mimetype": "text/x-python",
   "name": "python",
   "nbconvert_exporter": "python",
   "pygments_lexer": "ipython3",
   "version": "3.10.8"
  }
 },
 "nbformat": 4,
 "nbformat_minor": 2
}
